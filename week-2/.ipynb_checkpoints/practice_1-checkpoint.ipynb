{
 "cells": [
  {
   "cell_type": "code",
   "execution_count": 1,
   "metadata": {},
   "outputs": [
    {
     "name": "stdout",
     "output_type": "stream",
     "text": [
      "your state of origin is : imo\n",
      "The first character is : i\n",
      "The characters starting from 3rd to 5th are : o\n",
      "The string starting from 3rd character is: o\n",
      "State opf origin two times imoimo\n"
     ]
    }
   ],
   "source": [
    "str = input(\"Enter your state of origin\")\n",
    "\n",
    "print(\"your state of origin is :\",str)\n",
    "print(\"The first character is :\",str[0])\n",
    "print(\"The characters starting from 3rd to 5th are :\",str[2:5])\n",
    "print(\"The string starting from 3rd character is:\",str[2:])\n",
    "print(\"State of origin two times\",str*2)\n"
   ]
  },
  {
   "cell_type": "code",
   "execution_count": 3,
   "id": "c21f260f",
   "metadata": {},
   "outputs": [
    {
     "name": "stdout",
     "output_type": "stream",
     "text": [
      "The energy equivalent to 55.0 kg of mass is 4.943153483052497e+18 joules.\n"
     ]
    }
   ],
   "source": [
    "# Input from usen\n",
    "\n",
    "m = float (input(\"Enter mass in kilograms: \"))\n",
    "\n",
    "# Constant value for the speed of Light in m/s\n",
    "C = 299792458\n",
    "\n",
    "# Calculating energy using Einstein's equation\n",
    "energy = m * C** 2\n",
    "\n",
    "# Displaying the result\n",
    "print(f\"The energy equivalent to {m} kg of mass is {energy} joules.\")"
   ]
  },
  {
   "cell_type": "code",
   "execution_count": 4,
   "id": "ea606d90",
   "metadata": {},
   "outputs": [
    {
     "name": "stdout",
     "output_type": "stream",
     "text": [
      "['Anaconda', 786, 2.23, 'Jupyter', 70.2]\n",
      "Anaconda\n",
      "[786, 2.23]\n",
      "[2.23, 'Jupyter', 70.2]\n",
      "[321, 'Python', 321, 'Python']\n",
      "['Anaconda', 786, 2.23, 'Jupyter', 70.2, 321, 'Python']\n"
     ]
    }
   ],
   "source": [
    "list = [ 'Anaconda'\n",
    ", 786, 2.23, 'Jupyter', 70.2 ]\n",
    "\n",
    "\n",
    "shortlist = [321, 'Python']\n",
    "print(list)\n",
    "''' Prints complete list '''\n",
    "\n",
    "print(list[0])\n",
    "# Prints first element of the List\n",
    "\n",
    "print(list[1:3])\n",
    "# Prints elements starting from 2nd till 3rd\n",
    "print (list [2:])\n",
    "''' Prints elements starting from 3rd element '''\n",
    "\n",
    "print(shortlist * 2)\n",
    "# Prints List two times\n",
    "\n",
    "print(list + shortlist) # Prints concatenated Lists"
   ]
  },
  {
   "cell_type": "code",
   "execution_count": 5,
   "id": "ab14df62",
   "metadata": {},
   "outputs": [
    {
     "name": "stdout",
     "output_type": "stream",
     "text": [
      "('Ekiti', 750, 'Oshogbo', 250, 'Akure', 500)\n",
      "500\n",
      "('Oshogbo', 250)\n",
      "(250, 'Akure', 500)\n",
      "('Abeokuta', 300, 'Ogbomoso', 'Abeokuta', 300, 'Ogbomoso', 'Abeokuta', 300, 'Ogbomoso')\n",
      "('Ekiti', 750, 'Oshogbo', 250, 'Akure', 500, 'Abeokuta', 300, 'Ogbomoso')\n"
     ]
    }
   ],
   "source": [
    "tuple = (\"Ekiti\", 750,\n",
    "'Oshogbo', 250,\n",
    "\"Akure\", 500)\n",
    "s_tuple = (\"Abeokuta\", 300, \"Ogbomoso\")\n",
    "# Prints the complete tuple\n",
    "print (tuple)\n",
    "# Prints last element of the tuple\n",
    "print (tuple[-1])\n",
    "# Prints elements of the tuple starting from 2nd till 3rd\n",
    "print (tuple[2:4])\n",
    "# Prints elements of the tuple starting from 3rd element\n",
    "print (tuple[3:])\n",
    "# Prints the contents of the tuple twice\n",
    "print (s_tuple * 3)\n",
    "# Prints concatenated tuples\n",
    "print (tuple + s_tuple)"
   ]
  },
  {
   "cell_type": "code",
   "execution_count": 7,
   "id": "55cbc92d",
   "metadata": {},
   "outputs": [
    {
     "name": "stdout",
     "output_type": "stream",
     "text": [
      "False\n",
      "False\n",
      "False\n",
      "False\n",
      "True\n"
     ]
    }
   ],
   "source": [
    "# Returns false as game_ 1 is not equal to game_ 2\n",
    "game_1 = 2\n",
    "\n",
    "game_2 = 4\n",
    "\n",
    "print (bool (game_1 == game_2))\n",
    "# Or\n",
    "\n",
    "print (game_1 == game_2)\n",
    "\n",
    "# Returns False as val is None\n",
    "val = None\n",
    "print(bool (val))\n",
    "\n",
    "# Returns false as num is an empty sequence\n",
    "num = ()\n",
    "\n",
    "print (bool (num))\n",
    "# Returns true as age is boolean\n",
    "age = True\n",
    "print(bool (age))"
   ]
  },
  {
   "cell_type": "code",
   "execution_count": 8,
   "id": "b353787e",
   "metadata": {},
   "outputs": [
    {
     "name": "stdout",
     "output_type": "stream",
     "text": [
      "Grade = 70\n",
      "GPA = 4\n",
      "CGPA = 4\n"
     ]
    }
   ],
   "source": [
    " #Convert to int\n",
    "\n",
    "\n",
    "grade = int(70)\n",
    "gpa = int(4.9)\n",
    "cgpa = int(\"4\")\n",
    "# grade will be 70\n",
    "# gpa will be 4.9\n",
    "# cgpa will be 4\n",
    "\n",
    "print (f\"Grade = {grade}\")\n",
    "print (f\"GPA = {gpa}\")\n",
    "print (f\"CGPA = {cgpa}\")"
   ]
  },
  {
   "cell_type": "code",
   "execution_count": 9,
   "id": "627a5308",
   "metadata": {},
   "outputs": [
    {
     "name": "stdout",
     "output_type": "stream",
     "text": [
      "Grade = 97.0\n",
      "GPA = 5.0\n",
      "CGPA = 4.7\n"
     ]
    }
   ],
   "source": [
    "# Convert to float\n",
    "\n",
    "grade = float (97)\n",
    "gpa = float (5)\n",
    "cgpa = float(\"4.7\")\n",
    "print(f\"Grade = {grade}\")\n",
    "\n",
    "print (f\"GPA = {gpa}\")\n",
    "print (f\"CGPA = {cgpa}\")"
   ]
  }
 ],
 "metadata": {
  "kernelspec": {
   "display_name": "Python 3",
   "language": "python",
   "name": "python3"
  },
  "language_info": {
   "codemirror_mode": {
    "name": "ipython",
    "version": 3
   },
   "file_extension": ".py",
   "mimetype": "text/x-python",
   "name": "python",
   "nbconvert_exporter": "python",
   "pygments_lexer": "ipython3",
   "version": "3.14.0"
  }
 },
 "nbformat": 4,
 "nbformat_minor": 5
}
