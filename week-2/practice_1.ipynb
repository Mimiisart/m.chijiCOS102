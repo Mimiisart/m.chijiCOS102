{
 "cells": [
  {
   "cell_type": "markdown",
   "id": "0e0443f8-be47-48f3-b5fe-ddf77ebb382c",
   "metadata": {},
   "source": [
    "# list"
   ]
  }
 ],
 "metadata": {
  "kernelspec": {
   "display_name": "Python 3 (ipykernel)",
   "language": "python",
   "name": "python3"
  },
  "language_info": {
   "codemirror_mode": {
    "name": "ipython",
    "version": 3
   },
   "file_extension": ".py",
   "mimetype": "text/x-python",
   "name": "python",
   "nbconvert_exporter": "python",
   "pygments_lexer": "ipython3",
   "version": "3.12.7"
  }
 },
 "nbformat": 4,
 "nbformat_minor": 5
}
