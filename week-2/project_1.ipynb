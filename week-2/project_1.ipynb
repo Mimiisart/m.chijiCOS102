{
 "cells": [
  {
   "cell_type": "markdown",
   "metadata": {},
   "source": [
    "<!-- store checkout after purchase pseudocode -->\n",
    "start\n",
    "set total_price to 0\n",
    "Print(\"scan your purchase\")\n",
    "WHILE more items to scan\n",
    "      scan each item\n",
    "      add item price to total_price\n",
    "      ask \"done purchasing items\":yes/no?\n",
    "END WHILE\n",
    "show total price to user \n",
    "ask user for payment method(cash/card/transfer)\n",
    "process payment\n",
    "Print receipt\n",
    "Print(\"thanks for purchasing nwganu byeeeee!\")\n",
    "\n",
    "\n",
    "\n"
   ]
  },
  {
   "cell_type": "markdown",
   "metadata": {},
   "source": [
    "<!-- pseudocode to swap age -->\n",
    "start\n",
    "input name1,age1\n",
    "input name2,age2\n",
    "swap age1 and age2\n",
    "Display name1 with new age\n",
    "Display name2 with new age"
   ]
  },
  {
   "cell_type": "markdown",
   "metadata": {},
   "source": []
  }
 ],
 "metadata": {
  "language_info": {
   "name": "python"
  }
 },
 "nbformat": 4,
 "nbformat_minor": 2
}
