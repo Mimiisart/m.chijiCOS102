{
 "cells": [
  {
   "cell_type": "code",
   "execution_count": null,
   "metadata": {},
   "outputs": [],
   "source": [
    "#python program to print strings and type\n",
    "str1 = 'Hi my name is Matthew.I am string'\n",
    "str2 = 'Hi my name is precious. I am also a string'\n",
    "\n",
    "#displaying string str1 and its type\n",
    "print(str1)\n",
    "print(type(str1))\n",
    "#displaying string str2 and its type\n",
    "print(str2)\n",
    "print(type(str2))"
   ]
  }
 ],
 "metadata": {
  "language_info": {
   "name": "python"
  }
 },
 "nbformat": 4,
 "nbformat_minor": 2
}
