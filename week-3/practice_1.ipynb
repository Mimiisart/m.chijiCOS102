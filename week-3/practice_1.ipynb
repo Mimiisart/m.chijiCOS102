{
 "cells": [
  {
   "cell_type": "code",
   "execution_count": null,
   "metadata": {},
   "outputs": [],
   "source": [
    "# Python program topswap two cities\n",
    "\n",
    "# To take inputs from the user\n",
    "city_1 = input( 'Enter name of City 1: ')\n",
    "city_2 = input( 'Enter name of City 2: ')\n",
    "# create a temporary variable and swap the cities\n",
    "temp = city_1\n",
    "city_1 = city_2\n",
    "city_2 = temp\n",
    "\n",
    "print(f\"The name of City 1 after swapping is {city_1}\")\n",
    "\n",
    "print(f\"The name of City 2 after swapping is {city_2}\")"
   ]
  },
  {
   "cell_type": "code",
   "execution_count": 1,
   "metadata": {},
   "outputs": [
    {
     "ename": "NameError",
     "evalue": "name 'num' is not defined",
     "output_type": "error",
     "traceback": [
      "\u001b[31m---------------------------------------------------------------------------\u001b[39m",
      "\u001b[31mNameError\u001b[39m                                 Traceback (most recent call last)",
      "\u001b[36mCell\u001b[39m\u001b[36m \u001b[39m\u001b[32mIn[1]\u001b[39m\u001b[32m, line 2\u001b[39m\n\u001b[32m      1\u001b[39m \u001b[38;5;66;03m# Program to Check if a Number is Positive, Negative or num = float(input (\"Enter a number: \"))\u001b[39;00m\n\u001b[32m----> \u001b[39m\u001b[32m2\u001b[39m \u001b[38;5;28;01mif\u001b[39;00m \u001b[43mnum\u001b[49m > \u001b[32m0\u001b[39m:\n\u001b[32m      4\u001b[39m     \u001b[38;5;28mprint\u001b[39m(\u001b[33m\"\u001b[39m\u001b[33mPositive number\u001b[39m\u001b[33m\"\u001b[39m)\n\u001b[32m      6\u001b[39m \u001b[38;5;28;01melif\u001b[39;00m num == \u001b[32m0\u001b[39m:\n",
      "\u001b[31mNameError\u001b[39m: name 'num' is not defined"
     ]
    }
   ],
   "source": [
    "# Program to Check if a Number is Positive, Negative or \n",
    "num = float(input (\"Enter a number: \"))\n",
    "if num > 0:\n",
    "\n",
    "    print(\"Positive number\")\n",
    "\n",
    "elif num == 0:\n",
    "\n",
    "    print (\"Zero\")\n",
    "\n",
    "else:\n",
    "\n",
    "    print (\"Negative number\")"
   ]
  },
  {
   "cell_type": "markdown",
   "metadata": {},
   "source": []
  },
  {
   "cell_type": "code",
   "execution_count": 4,
   "metadata": {},
   "outputs": [
    {
     "name": "stdout",
     "output_type": "stream",
     "text": [
      "Welcome to the COUPE DE ESCRIVA 2023:FOOTBALL PICKS \n",
      "\n",
      "Madiba:\t Chubby obiora-okafo\t\n",
      "Blue-jays:\t Christopher uweh\t\n",
      "Cirok:\t Alexander\t\n",
      "TSG Walkers:\t Ikechukwu\t\n",
      "\n",
      "\n",
      "Madiba: Chubby obiora-okafo\n",
      "Blue-jays: Oladimeji Abaniwondea/jeffery Awagu\n",
      "Cirok: Timileyin pearse/izuako jeremy\n",
      "TSG walkers: Ayomide ojituku\n"
     ]
    }
   ],
   "source": [
    "#COUPE DE ESCRIVA 2023: FOOTBALL PICKS\n",
    "print(\"Welcome to the COUPE DE ESCRIVA 2023:FOOTBALL PICKS \\n\")\n",
    "captain= {'Madiba:' : 'Chubby obiora-okafo','Blue-jays:': 'Christopher uweh','Cirok:': 'Alexander','TSG Walkers:': 'Ikechukwu'}\n",
    "goalkeepers ={'Madiba:' : 'Chubby obiora-okafo','Blue-jays:': 'Oladimeji Abaniwondea/jeffery Awagu','Cirok:' :'Timileyin pearse/izuako jeremy','TSG walkers:':'Ayomide ojituku'}\n",
    "for pick in captain:\n",
    "    print(pick,captain[pick])\n",
    "print(\"\\n\")\n",
    "for pick in goalkeepers:\n",
    "    print(pick,goalkeepers[pick])"
   ]
  }
 ],
 "metadata": {
  "kernelspec": {
   "display_name": "Python 3",
   "language": "python",
   "name": "python3"
  },
  "language_info": {
   "codemirror_mode": {
    "name": "ipython",
    "version": 3
   },
   "file_extension": ".py",
   "mimetype": "text/x-python",
   "name": "python",
   "nbconvert_exporter": "python",
   "pygments_lexer": "ipython3",
   "version": "3.14.0a5"
  }
 },
 "nbformat": 4,
 "nbformat_minor": 2
}
