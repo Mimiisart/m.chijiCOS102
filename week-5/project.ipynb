{
 "cells": [
  {
   "cell_type": "code",
   "execution_count": 2,
   "metadata": {},
   "outputs": [
    {
     "data": {
      "text/plain": [
       "153.86"
      ]
     },
     "execution_count": 2,
     "metadata": {},
     "output_type": "execute_result"
    }
   ],
   "source": [
    "def calculate_area(radius):\n",
    "    pie = 3.14\n",
    "    area = pie * radius**2\n",
    "    return area\n",
    "\n",
    "r = int(input(\"enter radius of circle\"))\n",
    "calculate_area(r)\n"
   ]
  },
  {
   "cell_type": "code",
   "execution_count": 6,
   "metadata": {},
   "outputs": [
    {
     "name": "stdout",
     "output_type": "stream",
     "text": [
      "True\n",
      "False\n",
      "True\n",
      "False\n"
     ]
    }
   ],
   "source": [
    "def is_palindrome(string):\n",
    "    for i in range(len(string)):\n",
    "        back = len(string)- i -1 \n",
    "        if string[i] != string[back]:\n",
    "            return False\n",
    "    return True\n",
    "\n",
    "print(is_palindrome(\"racecar\"))\n",
    "print(is_palindrome(\"hello\"))\n",
    "print(is_palindrome(\"madam\"))\n",
    "print(is_palindrome(\"madam1\"))"
   ]
  },
  {
   "cell_type": "code",
   "execution_count": 9,
   "metadata": {},
   "outputs": [
    {
     "name": "stdout",
     "output_type": "stream",
     "text": [
      "[1, 2, 4, 5, 10, 20, 25, 50, 100]\n"
     ]
    }
   ],
   "source": [
    "def find_factors(number):\n",
    "    factors = []\n",
    "    for x in range(1, number):\n",
    "        if (number / x) % 1 == 0:\n",
    "            factors.append(x)\n",
    "    factors.append(number)\n",
    "    return factors\n",
    "print (find_factors(100))\n"
   ]
  },
  {
   "cell_type": "markdown",
   "metadata": {},
   "source": [
    "the output:\n",
    "original will be [1,2,3,4,]\n",
    "moodified will be [7,8,9,10]\n",
    "\n",
    "this is because the original list is passing to the modified list function and has 4 appended to it and then a new list is assigned to the my_list variable and has 10 appended to it"
   ]
  },
  {
   "cell_type": "code",
   "execution_count": 11,
   "metadata": {},
   "outputs": [
    {
     "name": "stdout",
     "output_type": "stream",
     "text": [
      "[9, 6, 7, 8, 5]\n"
     ]
    }
   ],
   "source": [
    "def swap_first_last(list):\n",
    "    first = list[0]\n",
    "    last = list[-1]\n",
    "    list[0] = last\n",
    "    list[-1] = first\n",
    "\n",
    "test = [5,6,7,8,9]\n",
    "swap_first_last(test)\n",
    "print(test)"
   ]
  },
  {
   "cell_type": "code",
   "execution_count": 13,
   "metadata": {},
   "outputs": [
    {
     "name": "stdout",
     "output_type": "stream",
     "text": [
      "Hello Miracle\n",
      "Salutations Chiji\n"
     ]
    }
   ],
   "source": [
    "def greet(name, greeting = \"Hello\"):\n",
    "    return greeting + \" \" + name\n",
    "\n",
    "print(greet(\"Miracle\"))\n",
    "print(greet(\"Chiji\", \"Salutations\"))"
   ]
  },
  {
   "cell_type": "markdown",
   "metadata": {},
   "source": [
    "it will output\n",
    "\"x in outer_func: 20\"\n",
    "\"x in global: 30\"\n",
    "\n",
    "because in the outer_func scope we declared x to be 20. And in the inner_func we alter the value of the global x to be 30."
   ]
  }
 ],
 "metadata": {
  "kernelspec": {
   "display_name": "Python 3",
   "language": "python",
   "name": "python3"
  },
  "language_info": {
   "codemirror_mode": {
    "name": "ipython",
    "version": 3
   },
   "file_extension": ".py",
   "mimetype": "text/x-python",
   "name": "python",
   "nbconvert_exporter": "python",
   "pygments_lexer": "ipython3",
   "version": "3.14.0a5"
  }
 },
 "nbformat": 4,
 "nbformat_minor": 2
}
