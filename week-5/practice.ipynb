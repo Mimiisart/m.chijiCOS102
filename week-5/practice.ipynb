{
 "cells": [
  {
   "cell_type": "code",
   "execution_count": 1,
   "metadata": {},
   "outputs": [
    {
     "name": "stdout",
     "output_type": "stream",
     "text": [
      "im first call to user defined function!\n",
      "Again second call to the same function\n"
     ]
    }
   ],
   "source": [
    "def printme(str):\n",
    "    #this is a print function\n",
    "    print(str)\n",
    "    return\n",
    "printme(\"im first call to user defined function!\")\n",
    "printme(\"Again second call to the same function\")\n"
   ]
  },
  {
   "cell_type": "code",
   "execution_count": 2,
   "metadata": {},
   "outputs": [
    {
     "name": "stdout",
     "output_type": "stream",
     "text": [
      "values inside the function : [10, 20, 30, [1, 2, 3, 4]]\n",
      "Values outside the function:  [10, 20, 30, [1, 2, 3, 4]]\n"
     ]
    }
   ],
   "source": [
    "def changeme(mylist):\n",
    "    #this changes a passed list\n",
    "    mylist.append([1,2,3,4])\n",
    "    print (\"values inside the function :\" ,mylist)\n",
    "    return\n",
    "mylist = [10,20,30]\n",
    "changeme (mylist)\n",
    "print (\"Values outside the function: \",mylist)"
   ]
  },
  {
   "cell_type": "code",
   "execution_count": 3,
   "metadata": {},
   "outputs": [
    {
     "name": "stdout",
     "output_type": "stream",
     "text": [
      "Values inside the function:  [1, 2, 3, 4]\n",
      "Value outside the function:  [10, 20, 30]\n"
     ]
    }
   ],
   "source": [
    "def changeme(mylist):\n",
    "    #this changes a passed list\n",
    "    mylist = [1,2,3,4]\n",
    "    print (\"Values inside the function: \",mylist)\n",
    "    return\n",
    "mylist = [10,20,30]\n",
    "changeme(mylist)\n",
    "print(\"Value outside the function: \",mylist)\n"
   ]
  },
  {
   "cell_type": "code",
   "execution_count": 4,
   "metadata": {},
   "outputs": [
    {
     "name": "stdout",
     "output_type": "stream",
     "text": [
      "My string\n"
     ]
    }
   ],
   "source": [
    "def printme(str):\n",
    "    #this prints a passed string\n",
    "    print (str)\n",
    "    return\n",
    "printme(str = \"My string\")"
   ]
  },
  {
   "cell_type": "code",
   "execution_count": 6,
   "metadata": {},
   "outputs": [
    {
     "name": "stdout",
     "output_type": "stream",
     "text": [
      "Name: MIKKI\n",
      "age: 50\n"
     ]
    }
   ],
   "source": [
    "def printinfo(name,age):\n",
    "    #Test function\n",
    "    print(\"Name:\",name)\n",
    "    print(\"age:\",age)\n",
    "    return\n",
    "printinfo(age= 50 , name = \"MIKKI\")"
   ]
  },
  {
   "cell_type": "code",
   "execution_count": 7,
   "metadata": {},
   "outputs": [
    {
     "name": "stdout",
     "output_type": "stream",
     "text": [
      "output is : \n",
      "10\n",
      "output is : \n",
      "70\n",
      "60\n"
     ]
    }
   ],
   "source": [
    "def printinfo(arg1,*vartuple):\n",
    "    #This is test\n",
    "    print (\"output is : \")\n",
    "    print (arg1)\n",
    "    for var in vartuple:\n",
    "        print (var)\n",
    "        return\n",
    "printinfo(10)\n",
    "printinfo(70,60,50)\n",
    "\n"
   ]
  },
  {
   "cell_type": "code",
   "execution_count": 11,
   "metadata": {},
   "outputs": [
    {
     "name": "stdout",
     "output_type": "stream",
     "text": [
      "inside the function local total :  30\n",
      "Outside the function global total :  50\n"
     ]
    }
   ],
   "source": [
    "total = 50 #this is global variable\n",
    "def sum(arg1 ,arg2):\n",
    "    #add both the parameters\n",
    "    total = arg1 + arg2\n",
    "    print(\"inside the function local total : \",total)\n",
    "    return total\n",
    "#Now you can call sum function\n",
    "sum(10,20)\n",
    "print(\"Outside the function global total : \",total)"
   ]
  },
  {
   "cell_type": "code",
   "execution_count": 12,
   "metadata": {},
   "outputs": [
    {
     "name": "stdout",
     "output_type": "stream",
     "text": [
      "Lawal Edward Tolu Tina\n",
      "Mary\n"
     ]
    }
   ],
   "source": [
    "def swap(x,y):\n",
    "    global a\n",
    "    a = \"Lawal\"\n",
    "    x,y = y,x\n",
    "    b = \"Chris\"\n",
    "    b = \"Edward\"\n",
    "    c = \"Lola\"\n",
    "    print(a,b,x,y)\n",
    "    a = \"Mary\"\n",
    "swap(\"Tina\",\"Tolu\")\n",
    "print(a)"
   ]
  }
 ],
 "metadata": {
  "kernelspec": {
   "display_name": "Python 3",
   "language": "python",
   "name": "python3"
  },
  "language_info": {
   "codemirror_mode": {
    "name": "ipython",
    "version": 3
   },
   "file_extension": ".py",
   "mimetype": "text/x-python",
   "name": "python",
   "nbconvert_exporter": "python",
   "pygments_lexer": "ipython3",
   "version": "3.14.0"
  }
 },
 "nbformat": 4,
 "nbformat_minor": 2
}
