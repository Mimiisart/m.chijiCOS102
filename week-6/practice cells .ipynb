{
 "cells": [
  {
   "cell_type": "code",
   "execution_count": 11,
   "metadata": {},
   "outputs": [],
   "source": [
    "import tkinter as tk\n",
    "from tkinter import messagebox as msgbox \n",
    "#handling button click event\n",
    "def button_click():\n",
    "    #print(\"Button clicked\")\n",
    "\n",
    "    #Show an information message box\n",
    "    msgbox.showinfo(\"info\" ,\"Welcome to MIRACLE by Mims!\\n\")\n",
    "\n",
    "    #ask for user confirmation\n",
    "    result = msgbox.askyesno(\"confirmation\",\"Do you want to continue\")\n",
    "\n",
    "#create the main window\n",
    "root = tk.Tk()\n",
    "root.title(\"Home page\")\n",
    "root.geometry(\"300x100\")\n",
    "\n",
    "#Add a label widget \n",
    "label = tk.Label(root,text=\"Hello my loviess \\n\")\n",
    "label.pack()\n",
    "\n",
    "#Add a button widget \n",
    "button = tk.Button(root,text=\"Click Me !\",command = button_click)\n",
    "button.pack()\n",
    "\n",
    "#Styling the button widget\n",
    "button.config(fg=\"red\" , bg=\"yellow\")\n",
    "\n",
    "#Start the event loop\n",
    "root.mainloop()"
   ]
  },
  {
   "cell_type": "code",
   "execution_count": null,
   "metadata": {},
   "outputs": [],
   "source": []
  },
  {
   "cell_type": "code",
   "execution_count": null,
   "metadata": {},
   "outputs": [],
   "source": []
  },
  {
   "cell_type": "code",
   "execution_count": null,
   "metadata": {},
   "outputs": [],
   "source": []
  }
 ],
 "metadata": {
  "kernelspec": {
   "display_name": "Python 3",
   "language": "python",
   "name": "python3"
  },
  "language_info": {
   "codemirror_mode": {
    "name": "ipython",
    "version": 3
   },
   "file_extension": ".py",
   "mimetype": "text/x-python",
   "name": "python",
   "nbconvert_exporter": "python",
   "pygments_lexer": "ipython3",
   "version": "3.14.0a5"
  }
 },
 "nbformat": 4,
 "nbformat_minor": 2
}
